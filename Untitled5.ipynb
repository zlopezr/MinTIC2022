{
  "nbformat": 4,
  "nbformat_minor": 0,
  "metadata": {
    "colab": {
      "name": "Untitled5.ipynb",
      "provenance": [],
      "collapsed_sections": [],
      "include_colab_link": true
    },
    "kernelspec": {
      "name": "python3",
      "display_name": "Python 3"
    },
    "language_info": {
      "name": "python"
    }
  },
  "cells": [
    {
      "cell_type": "markdown",
      "metadata": {
        "id": "view-in-github",
        "colab_type": "text"
      },
      "source": [
        "<a href=\"https://colab.research.google.com/github/zlopezr/MinTIC2022/blob/master/Untitled5.ipynb\" target=\"_parent\"><img src=\"https://colab.research.google.com/assets/colab-badge.svg\" alt=\"Open In Colab\"/></a>"
      ]
    },
    {
      "cell_type": "code",
      "metadata": {
        "colab": {
          "base_uri": "https://localhost:8080/"
        },
        "id": "_N8awe6OOb7H",
        "outputId": "9cbfce7b-5e41-49b2-9627-304cb9d0b8d5"
      },
      "source": [
        "Matriz1 = [[1,2,3],[8,7,6]]\n",
        "print(Matriz1)\n",
        "\n",
        "print( Matriz1[0], [1*1,2*2,3*3] )\n",
        "print( Matriz1[1], [] )"
      ],
      "execution_count": null,
      "outputs": [
        {
          "output_type": "stream",
          "text": [
            "[[1, 2, 3], [8, 7, 6]]\n",
            "[1, 2, 3] [1, 4, 9]\n",
            "[8, 7, 6] []\n"
          ],
          "name": "stdout"
        }
      ]
    },
    {
      "cell_type": "code",
      "metadata": {
        "colab": {
          "base_uri": "https://localhost:8080/"
        },
        "id": "r1a2PCfBP28U",
        "outputId": "cb889d1a-50ab-47a3-a800-a532dc6651f0"
      },
      "source": [
        "def cuadradoMatriz(M1):\n",
        "  matrizResult = []\n",
        "  for fila in M1:\n",
        "    nuevaFila = []\n",
        "    for c in fila:\n",
        "      nuevaFila.append(c*c)\n",
        "    matrizResult.append(nuevaFila)\n",
        "  \n",
        "  return matrizResult\n",
        "\n",
        "cuadradoMatriz(Matriz1)"
      ],
      "execution_count": null,
      "outputs": [
        {
          "output_type": "execute_result",
          "data": {
            "text/plain": [
              "[[1, 4, 9], [64, 49, 36]]"
            ]
          },
          "metadata": {
            "tags": []
          },
          "execution_count": 18
        }
      ]
    },
    {
      "cell_type": "code",
      "metadata": {
        "id": "7-BghwR5Th8Y"
      },
      "source": [
        "M1 = [[1,2,3],[8,7,6],[3,5,7]]"
      ],
      "execution_count": null,
      "outputs": []
    },
    {
      "cell_type": "code",
      "metadata": {
        "colab": {
          "base_uri": "https://localhost:8080/"
        },
        "id": "RSoUYKXdTsKU",
        "outputId": "f4d156bb-aed5-4ffa-f52e-dbd80dc3bb58"
      },
      "source": [
        "def vectorDiag(Matriz):\n",
        "  n = len(Matriz)\n",
        "  vect = []\n",
        "  if n==len(Matriz[0]):\n",
        "    for i in range(len(Matriz)):\n",
        "      vect.append( Matriz[i][i] )\n",
        "  \n",
        "  return vect\n",
        "\n",
        "vectorDiag(M1)"
      ],
      "execution_count": null,
      "outputs": [
        {
          "output_type": "execute_result",
          "data": {
            "text/plain": [
              "[1, 7, 7]"
            ]
          },
          "metadata": {
            "tags": []
          },
          "execution_count": 28
        }
      ]
    },
    {
      "cell_type": "code",
      "metadata": {
        "id": "OexbVm_9WHAp"
      },
      "source": [
        "Matriz = [[1,2,3],[8,7,6],[3,5,7]]\n",
        "vect = []\n",
        "for i in range(len(Matriz)):\n",
        "      vect.append( Matriz[i][i] )\n"
      ],
      "execution_count": null,
      "outputs": []
    },
    {
      "cell_type": "code",
      "metadata": {
        "colab": {
          "base_uri": "https://localhost:8080/"
        },
        "id": "DgOd60szX6Xh",
        "outputId": "f69a2da9-cca1-4272-86bc-0043241e293c"
      },
      "source": [
        "def matriz_simetrica(X):\n",
        "  for i in range(len(X)-1):\n",
        "    for j in range(i+1,len(X)):\n",
        "      if (X[i][j] != X[j][i]):\n",
        "        return False\n",
        "  return True\n",
        "print(matriz_simetrica([[1,-3],[4,11]]))\n",
        "print(matriz_simetrica([[\"A\",\"B\"],[\"B\",\"A\"]]))"
      ],
      "execution_count": null,
      "outputs": [
        {
          "output_type": "stream",
          "text": [
            "False\n",
            "True\n"
          ],
          "name": "stdout"
        }
      ]
    },
    {
      "cell_type": "code",
      "metadata": {
        "colab": {
          "base_uri": "https://localhost:8080/"
        },
        "id": "Vrb7lRZsZwkW",
        "outputId": "7a3f605b-c3e7-467a-988c-159b9ffdb4d3"
      },
      "source": [
        "M1 = [[1,2,3,4],[8,6,7,6],[3,5,7,9]]\n",
        "M2 = [[5,6,7,8],[12,11,10,9],[4,6,8,10]]\n",
        "def sumaMatriz(M1,M2):\n",
        "  Mr = []\n",
        "  if len(M1) ==len(M2):\n",
        "    for i in range(len(M1)):\n",
        "      if len(M1[i]) != len(M2[i]) :\n",
        "        return []\n",
        "      nuevaFila = []\n",
        "      for j in range(len(M1[i])):\n",
        "        nuevaFila.append(M1[i][j] + M2[i][j])\n",
        "      Mr.append(nuevaFila)\n",
        "  \n",
        "  return Mr\n",
        "\n",
        "sumaMatriz(M1,M2)"
      ],
      "execution_count": null,
      "outputs": [
        {
          "output_type": "execute_result",
          "data": {
            "text/plain": [
              "[]"
            ]
          },
          "metadata": {
            "tags": []
          },
          "execution_count": 42
        }
      ]
    },
    {
      "cell_type": "code",
      "metadata": {
        "colab": {
          "base_uri": "https://localhost:8080/"
        },
        "id": "UEbSqze4eHTR",
        "outputId": "9d355abe-77b5-471c-a2d2-314a2af05c46"
      },
      "source": [
        "M1 = [[1,2,3,4],[8,6,7,6],[3,5,7,9]]\n",
        "def sumaColumna (Matriz, col):\n",
        "  col -= 1\n",
        "  acum = 0\n",
        "  for i in range(len(Matriz)):\n",
        "    acum += Matriz[i][col]\n",
        "  \n",
        "  return acum\n",
        "\n",
        "\n",
        "columna = 1\n",
        "sumaColumna (M1, columna)\n"
      ],
      "execution_count": null,
      "outputs": [
        {
          "output_type": "execute_result",
          "data": {
            "text/plain": [
              "12"
            ]
          },
          "metadata": {
            "tags": []
          },
          "execution_count": 45
        }
      ]
    },
    {
      "cell_type": "code",
      "metadata": {
        "colab": {
          "base_uri": "https://localhost:8080/"
        },
        "id": "f573BdxJfloS",
        "outputId": "522561cd-e8ba-466d-b152-c9cddd2e99f5"
      },
      "source": [
        "M1 = [[1,2,3,4],[8,6,7,6],[3,5,7,9]]\n",
        "def sumaColumna (Matriz, col):\n",
        "  col -= 1\n",
        "  acum = 0\n",
        "  for fila in Matriz:\n",
        "    acum += fila[col]\n",
        "  \n",
        "  return acum\n",
        "\n",
        "\n",
        "columna = 1\n",
        "sumaColumna (M1, columna)"
      ],
      "execution_count": null,
      "outputs": [
        {
          "output_type": "execute_result",
          "data": {
            "text/plain": [
              "12"
            ]
          },
          "metadata": {
            "tags": []
          },
          "execution_count": 46
        }
      ]
    },
    {
      "cell_type": "code",
      "metadata": {
        "id": "OzZvJLDDgAGR"
      },
      "source": [
        "Matriz = [[1,2,3,4],[8,6,7,6],[3,5,7,9]]\n",
        "col = 0\n",
        "acum = 0\n",
        "for fila in Matriz:\n",
        "  acum += fila[col]\n",
        "  \n"
      ],
      "execution_count": null,
      "outputs": []
    },
    {
      "cell_type": "code",
      "metadata": {
        "colab": {
          "base_uri": "https://localhost:8080/"
        },
        "id": "mmZRNjS2hB0f",
        "outputId": "c3ad58a6-875a-4e9a-9326-c024f210ed8e"
      },
      "source": [
        "V1 = [1,2,3]\n",
        "V2 = [4,2,1]\n",
        "\n",
        "def prodDirecto(V1,V2):\n",
        "  Vr = []\n",
        "  if len(V1) == len(V2):\n",
        "    for i in range(len(V1)):\n",
        "      Vr.append( V1[i]*V2[i] )\n",
        "\n",
        "  return Vr\n",
        "\n",
        "prodDirecto(V1,V2)"
      ],
      "execution_count": null,
      "outputs": [
        {
          "output_type": "execute_result",
          "data": {
            "text/plain": [
              "[4, 4, 3]"
            ]
          },
          "metadata": {
            "tags": []
          },
          "execution_count": 47
        }
      ]
    },
    {
      "cell_type": "code",
      "metadata": {
        "colab": {
          "base_uri": "https://localhost:8080/"
        },
        "id": "gw72v96EiuOZ",
        "outputId": "7f8f47ea-845a-460a-b84d-4a1822d46ad6"
      },
      "source": [
        "L1 = [3,5,1,2,8]\n",
        "L2 = [3,5,1,5,2,1,8]\n",
        "def tieneRepetidos(L):\n",
        "  for e in L:\n",
        "    if L.count(e) > 1:\n",
        "      return True\n",
        "  return False\n",
        "\n",
        "print(tieneRepetidos(L1))\n",
        "print(tieneRepetidos(L2))"
      ],
      "execution_count": null,
      "outputs": [
        {
          "output_type": "stream",
          "text": [
            "False\n",
            "5\n",
            "True\n"
          ],
          "name": "stdout"
        }
      ]
    },
    {
      "cell_type": "code",
      "metadata": {
        "colab": {
          "base_uri": "https://localhost:8080/"
        },
        "id": "0oATXU3ekSaJ",
        "outputId": "a19cf64c-a3d1-4745-f612-55cb6b6f278d"
      },
      "source": [
        "L1 = [3,5,1,2,8]\n",
        "L2 = [3,5,1,5,2,1,8]\n",
        "def contarRepetidos(L):\n",
        "  acum = 0\n",
        "  for e in L:\n",
        "    if L.count(e) > 1:\n",
        "      acum +=1\n",
        "  return acum\n",
        "\n",
        "print(contarRepetidos(L1))\n",
        "print(contarRepetidos(L2))"
      ],
      "execution_count": null,
      "outputs": [
        {
          "output_type": "stream",
          "text": [
            "0\n",
            "4\n"
          ],
          "name": "stdout"
        }
      ]
    },
    {
      "cell_type": "code",
      "metadata": {
        "colab": {
          "base_uri": "https://localhost:8080/"
        },
        "id": "EbnnOMDpk0i7",
        "outputId": "351c8f9b-cc04-47d9-9870-d7143820ced9"
      },
      "source": [
        "L1 = [3,5,1,2,8]\n",
        "L2 = [3,5,1,5,2,1,8]\n",
        "def elementosRepetidos(L):\n",
        "  elemRep = []\n",
        "  for e in L:\n",
        "    if L.count(e) > 1:\n",
        "      if e not in elemRep:\n",
        "        elemRep.append(e)\n",
        "  return elemRep\n",
        "\n",
        "print(elementosRepetidos(L1))\n",
        "print(elementosRepetidos(L2))"
      ],
      "execution_count": null,
      "outputs": [
        {
          "output_type": "stream",
          "text": [
            "[]\n",
            "[5, 1]\n"
          ],
          "name": "stdout"
        }
      ]
    },
    {
      "cell_type": "code",
      "metadata": {
        "colab": {
          "base_uri": "https://localhost:8080/"
        },
        "id": "opQXKRy4lqV3",
        "outputId": "d0162cef-58fb-4e78-d7d4-e07465dcf481"
      },
      "source": [
        "\n",
        "def matrizMagica(M):\n",
        "  valorMagico = 0\n",
        "  for i in range(len(M)):\n",
        "    valorMagico +=M[i][i]\n",
        "\n",
        "  #print(valorMagico)\n",
        "  n = len(M)-1\n",
        "  acum = 0\n",
        "  for i in range(len(M)):\n",
        "    acum += M[i][n-i]\n",
        "\n",
        "  if acum != valorMagico:\n",
        "    return False\n",
        "\n",
        "  ##Verificacion Fila\n",
        "  for fila in M:\n",
        "    acum = 0\n",
        "    for e in fila:\n",
        "      acum += e\n",
        "    if acum != valorMagico:\n",
        "      return False\n",
        "\n",
        "  ##Verificacion Columna\n",
        "  for j in range(len(M)):\n",
        "    acum = 0\n",
        "    for i in range(len(M)):\n",
        "      acum += M[i][j]\n",
        "    if acum != valorMagico:\n",
        "      return False\n",
        "\n",
        "  return True\n",
        "\n",
        "M = [[8,1,6],[3,5,7],[4,9,2]]\n",
        "M1 = [[1,1,1,1],[1,1,1,1],[1,1,7,1],[1,1,1,1]]\n",
        "\n",
        "matrizMagica(M1)\n"
      ],
      "execution_count": null,
      "outputs": [
        {
          "output_type": "execute_result",
          "data": {
            "text/plain": [
              "False"
            ]
          },
          "metadata": {
            "tags": []
          },
          "execution_count": 73
        }
      ]
    }
  ]
}